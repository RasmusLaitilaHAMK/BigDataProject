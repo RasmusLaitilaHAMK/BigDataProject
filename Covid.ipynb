{
 "cells": [
  {
   "cell_type": "code",
   "execution_count": null,
   "id": "f85c07ac",
   "metadata": {},
   "outputs": [],
   "source": [
    "# COVID-19 Data Analysis Notebook\n",
    "\n",
    "# 1. Setup\n",
    "\n",
    "import pandas as pd\n",
    "import matplotlib.pyplot as plt\n",
    "import seaborn as sns\n",
    "from pymongo import MongoClient\n",
    "from pyspark.sql import SparkSession\n",
    "from pyspark.sql.functions import col, avg, to_date\n",
    "import time\n",
    "import findspark\n",
    "findspark.init()\n"
   ]
  },
  {
   "cell_type": "code",
   "execution_count": 4,
   "id": "62c12a0e",
   "metadata": {},
   "outputs": [],
   "source": [
    "import findspark\n",
    "import os\n",
    "\n",
    "# Set JAVA_HOME manually if needed\n",
    "findspark.init()\n",
    "\n",
    "from pyspark.sql import SparkSession\n",
    "\n",
    "client = MongoClient(\"mongodb://localhost:27017/\")\n",
    "db = client['covid_analysis']"
   ]
  },
  {
   "cell_type": "code",
   "execution_count": 5,
   "id": "863c8f52",
   "metadata": {},
   "outputs": [],
   "source": [
    "df = pd.read_csv(\"Covid19.csv\")\n",
    "df['date'] = pd.to_datetime(df['date'])\n",
    "\n",
    "# Fill NaNs with 0 or suitable value\n",
    "df.fillna(0, inplace=True)"
   ]
  },
  {
   "cell_type": "code",
   "execution_count": 7,
   "id": "941b427a",
   "metadata": {},
   "outputs": [
    {
     "data": {
      "text/plain": [
       "'country_1_date_1'"
      ]
     },
     "execution_count": 7,
     "metadata": {},
     "output_type": "execute_result"
    }
   ],
   "source": [
    "\n",
    "# 3. MongoDB Integration\n",
    "collection.drop()  # Clear if exists\n",
    "\n",
    "# Restructure and insert data\n",
    "records = []\n",
    "for _, row in df.iterrows():\n",
    "    records.append({\n",
    "        \"date\": row['date'],\n",
    "        \"country\": row['country'],\n",
    "        \"stats\": {\n",
    "            \"total_cases\": row['cumulative_total_cases'],\n",
    "            \"daily_cases\": row['daily_new_cases'],\n",
    "            \"active_cases\": row['active_cases'],\n",
    "            \"total_deaths\": row['cumulative_total_deaths'],\n",
    "            \"daily_deaths\": row['daily_new_deaths'],\n",
    "        }\n",
    "    })\n",
    "collection.insert_many(records)\n",
    "collection.create_index([(\"country\", 1), (\"date\", 1)])"
   ]
  },
  {
   "cell_type": "code",
   "execution_count": null,
   "id": "cf8126f3",
   "metadata": {},
   "outputs": [],
   "source": []
  }
 ],
 "metadata": {
  "kernelspec": {
   "display_name": "appliedml",
   "language": "python",
   "name": "python3"
  },
  "language_info": {
   "codemirror_mode": {
    "name": "ipython",
    "version": 3
   },
   "file_extension": ".py",
   "mimetype": "text/x-python",
   "name": "python",
   "nbconvert_exporter": "python",
   "pygments_lexer": "ipython3",
   "version": "3.11.11"
  }
 },
 "nbformat": 4,
 "nbformat_minor": 5
}

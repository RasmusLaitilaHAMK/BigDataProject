{
 "cells": [
  {
   "cell_type": "code",
   "execution_count": 5,
   "metadata": {
    "colab": {
     "base_uri": "https://localhost:8080/"
    },
    "executionInfo": {
     "elapsed": 25901,
     "status": "ok",
     "timestamp": 1742291631915,
     "user": {
      "displayName": "Rasmus Laitila",
      "userId": "04058632522947513870"
     },
     "user_tz": -120
    },
    "id": "sfg3_I85q4Qm",
    "outputId": "629d325b-34fb-4444-b1c8-3fce61b047b0"
   },
   "outputs": [],
   "source": [
    "# from google.colab import drive\n",
    "# drive.mount('/content/drive')\n",
    "\n",
    "# Dont use with VsCode / local execution"
   ]
  },
  {
   "cell_type": "code",
   "execution_count": 6,
   "metadata": {
    "colab": {
     "base_uri": "https://localhost:8080/"
    },
    "executionInfo": {
     "elapsed": 3660,
     "status": "ok",
     "timestamp": 1742291893148,
     "user": {
      "displayName": "Rasmus Laitila",
      "userId": "04058632522947513870"
     },
     "user_tz": -120
    },
    "id": "Cc6x3qJnjwI-",
    "outputId": "6fa23923-3bbd-4fcb-e467-42d7051ce68d"
   },
   "outputs": [
    {
     "name": "stdout",
     "output_type": "stream",
     "text": [
      "+-------------------+-----------+----------------------+---------------+------------+-----------------------+----------------+\n",
      "|               date|    country|cumulative_total_cases|daily_new_cases|active_cases|cumulative_total_deaths|daily_new_deaths|\n",
      "+-------------------+-----------+----------------------+---------------+------------+-----------------------+----------------+\n",
      "|2020-02-15 00:00:00|Afghanistan|                   0.0|           NULL|         0.0|                    0.0|            NULL|\n",
      "|2020-02-16 00:00:00|Afghanistan|                   0.0|           NULL|         0.0|                    0.0|            NULL|\n",
      "|2020-02-17 00:00:00|Afghanistan|                   0.0|           NULL|         0.0|                    0.0|            NULL|\n",
      "|2020-02-18 00:00:00|Afghanistan|                   0.0|           NULL|         0.0|                    0.0|            NULL|\n",
      "|2020-02-19 00:00:00|Afghanistan|                   0.0|           NULL|         0.0|                    0.0|            NULL|\n",
      "|2020-02-20 00:00:00|Afghanistan|                   0.0|           NULL|         0.0|                    0.0|            NULL|\n",
      "|2020-02-21 00:00:00|Afghanistan|                   0.0|           NULL|         0.0|                    0.0|            NULL|\n",
      "|2020-02-22 00:00:00|Afghanistan|                   0.0|           NULL|         0.0|                    0.0|            NULL|\n",
      "|2020-02-23 00:00:00|Afghanistan|                   0.0|           NULL|         0.0|                    0.0|            NULL|\n",
      "|2020-02-24 00:00:00|Afghanistan|                   1.0|           NULL|         1.0|                    0.0|            NULL|\n",
      "|2020-02-25 00:00:00|Afghanistan|                   1.0|            0.0|         1.0|                    0.0|             0.0|\n",
      "|2020-02-26 00:00:00|Afghanistan|                   1.0|            0.0|         1.0|                    0.0|             0.0|\n",
      "|2020-02-27 00:00:00|Afghanistan|                   1.0|            0.0|         1.0|                    0.0|             0.0|\n",
      "|2020-02-28 00:00:00|Afghanistan|                   1.0|            0.0|         1.0|                    0.0|             0.0|\n",
      "|2020-02-29 00:00:00|Afghanistan|                   1.0|            0.0|         1.0|                    0.0|             0.0|\n",
      "|2020-03-01 00:00:00|Afghanistan|                   1.0|            0.0|         1.0|                    0.0|             0.0|\n",
      "|2020-03-02 00:00:00|Afghanistan|                   1.0|            0.0|         1.0|                    0.0|             0.0|\n",
      "|2020-03-03 00:00:00|Afghanistan|                   1.0|            0.0|         1.0|                    0.0|             0.0|\n",
      "|2020-03-04 00:00:00|Afghanistan|                   1.0|            0.0|         1.0|                    0.0|             0.0|\n",
      "|2020-03-05 00:00:00|Afghanistan|                   1.0|            0.0|         1.0|                    0.0|             0.0|\n",
      "+-------------------+-----------+----------------------+---------------+------------+-----------------------+----------------+\n",
      "only showing top 20 rows\n",
      "\n"
     ]
    }
   ],
   "source": [
    "from pyspark.sql import SparkSession\n",
    "\n",
    "spark = SparkSession.builder.appName(\"FirstSparkApp\").getOrCreate()\n",
    "\n",
    "df =spark.read.csv(\"Covid19.csv\",header=True, inferSchema=True).show() # Path changed because of local execution with VsCode"
   ]
  }
 ],
 "metadata": {
  "colab": {
   "authorship_tag": "ABX9TyN9d1kHPvxOsncCk+omb6sP",
   "provenance": []
  },
  "kernelspec": {
   "display_name": "Python 3",
   "name": "python3"
  },
  "language_info": {
   "codemirror_mode": {
    "name": "ipython",
    "version": 3
   },
   "file_extension": ".py",
   "mimetype": "text/x-python",
   "name": "python",
   "nbconvert_exporter": "python",
   "pygments_lexer": "ipython3",
   "version": "3.13.2"
  }
 },
 "nbformat": 4,
 "nbformat_minor": 0
}
